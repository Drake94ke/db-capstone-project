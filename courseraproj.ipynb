{
 "cells": [
  {
   "cell_type": "code",
   "execution_count": 5,
   "metadata": {},
   "outputs": [],
   "source": [
    "# Import MySQL Connector/Python \n",
    "import mysql.connector as connector\n",
    "\n",
    "connection=connector.connect(user=\"root\",password=\"Dynamopika88\")\n",
    "\n",
    "cursor = connection.cursor()\n",
    "\n",
    "cursor.execute(\"CREATE DATABASE little_lemon_db\") "
   ]
  },
  {
   "cell_type": "code",
   "execution_count": 6,
   "metadata": {},
   "outputs": [],
   "source": [
    "\n",
    "\n",
    "cursor.execute(\"USE little_lemon_db\")\n",
    "\n",
    "#MenuItems table\n",
    "create_customers_table = \"\"\"CREATE TABLE Customers (\n",
    "CustomerID INT AUTO_INCREMENT,\n",
    "FullName VARCHAR(200),\n",
    "ContactNumber VARCHAR(100),\n",
    "Email VARCHAR(200),\n",
    "PRIMARY KEY (CustomerID)\n",
    ");\"\"\"\n",
    "\n",
    "\n",
    "create_booking_table = \"\"\"CREATE TABLE Bookings (\n",
    "BookingID INT AUTO_INCREMENT,\n",
    "BookingDate DATE,\n",
    "TableNumber INT,\n",
    "CustomerID INT,\n",
    "PRIMARY KEY (BookingID)\n",
    ");\"\"\"\n",
    "\n",
    "\n",
    "# Create Customer table\n",
    "cursor.execute(create_customers_table)\n",
    "\n",
    "# Create Booking table\n",
    "cursor.execute(create_booking_table)\n",
    "\n",
    "\n",
    "\n",
    "\n",
    "\n",
    "\n",
    "\n",
    "\n",
    "\n",
    "\n"
   ]
  },
  {
   "cell_type": "code",
   "execution_count": 8,
   "metadata": {},
   "outputs": [],
   "source": [
    "#*******************************************************#\n",
    "# Insert query to populate \"Bookings\" table:\n",
    "#*******************************************************#\n",
    "insert_bookings=\"\"\"\n",
    "INSERT INTO Bookings (BookingID, BookingDate, TableNumber, CustomerID)\n",
    "VALUES\n",
    "(1,'2022-10-10',5,1),\n",
    "(2,'2022-11-12',3,3),\n",
    "(3,'2022-10-11',2,2),\n",
    "(4,'2022-10-13',2,1);\n",
    "\"\"\"\n",
    "\n",
    "\n",
    "# Populate Bookings table\n",
    "cursor.execute(insert_bookings)\n",
    "connection.commit()\n"
   ]
  },
  {
   "cell_type": "code",
   "execution_count": 19,
   "metadata": {},
   "outputs": [],
   "source": [
    "stored_procedure_query = \"\"\"\n",
    "CREATE PROCEDURE CheckBooking(IN datebooking DATE, IN tablenum INT)\n",
    "BEGIN \n",
    "    DECLARE booking_exists INT;\n",
    "    SELECT COUNT(*) INTO booking_exists\n",
    "    FROM Bookings\n",
    "    WHERE BookingDate = datebooking AND TableNumber = tablenum;\n",
    "    IF booking_exists > 0 THEN\n",
    "        SELECT CONCAT('Table ', tablenum, ' is already booked') AS 'Booking status';\n",
    "    ELSE\n",
    "        SELECT CONCAT('Table ', tablenum, ' is available') AS 'Booking status';\n",
    "    END IF;\n",
    "END\n",
    "\"\"\"\n",
    "\n",
    "cursor.execute(stored_procedure_query)\n"
   ]
  },
  {
   "cell_type": "code",
   "execution_count": 21,
   "metadata": {},
   "outputs": [
    {
     "name": "stdout",
     "output_type": "stream",
     "text": [
      "['Booking status']\n",
      "('Table 3 is already booked',)\n"
     ]
    }
   ],
   "source": [
    "# Call the stored procedure with its name\n",
    "cursor.callproc(\"CheckBooking\",('2022-11-12',3))\n",
    "\n",
    "# Retrieve recrods in \"dataset\"\n",
    "results = next( cursor.stored_results() )\n",
    "dataset = results.fetchall()\n",
    "\n",
    "# Retrieve column names using list comprehension in a 'for' loop \n",
    "for column_id in cursor.stored_results():\n",
    "    columns = [ column[0] for column in column_id.description ]\n",
    "\n",
    "# Print column names\n",
    "print(columns)\n",
    "\n",
    "# Print data \n",
    "for data in dataset:\n",
    "    print(data)"
   ]
  },
  {
   "cell_type": "code",
   "execution_count": 57,
   "metadata": {},
   "outputs": [],
   "source": [
    "stored_procedure_query = \"\"\"\n",
    "\n",
    "\n",
    "\n",
    "CREATE PROCEDURE AddValidBooking(IN booking_date DATE, IN table_number INT)\n",
    "BEGIN\n",
    "    -- Declare variables\n",
    "    DECLARE table_exists INT;\n",
    "\n",
    "    -- Check if the table is already booked on the given date\n",
    "    SELECT COUNT(*) INTO table_exists\n",
    "    FROM Bookings\n",
    "    WHERE BookingDate = booking_date AND TableNumber = table_number;\n",
    "\n",
    "    -- Start a transaction\n",
    "    START TRANSACTION;\n",
    "\n",
    "    -- Check the result and decide to commit or rollback\n",
    "    IF table_exists > 0 THEN\n",
    "        -- If the table is already booked, display a message and rollback the transaction\n",
    "        SELECT CONCAT('Table ', table_number, ' is already booked - booking cancelled') AS 'Booking status';\n",
    "        -- Rollback the transaction\n",
    "        ROLLBACK;\n",
    "    ELSE\n",
    "        -- If the table is available, perform the booking insertion\n",
    "        INSERT INTO Bookings(BookingDate, TableNumber)\n",
    "        VALUES (booking_date, table_number);\n",
    "        \n",
    "        -- Display a message and commit the transaction\n",
    "        SELECT CONCAT('Table ', table_number, ' is available for booking.') AS 'Booking status';\n",
    "        COMMIT;\n",
    "    END IF;\n",
    "END\n",
    "\"\"\"\n",
    "\n",
    "cursor.execute(stored_procedure_query)\n"
   ]
  },
  {
   "cell_type": "code",
   "execution_count": 58,
   "metadata": {},
   "outputs": [
    {
     "name": "stdout",
     "output_type": "stream",
     "text": [
      "['Booking status']\n",
      "('Table 3 is already booked - booking cancelled',)\n"
     ]
    }
   ],
   "source": [
    "# Call the stored procedure with its name\n",
    "cursor.callproc(\"AddValidBooking\",('2022-11-12',3))\n",
    "\n",
    "# Retrieve recrods in \"dataset\"\n",
    "results = next( cursor.stored_results() )\n",
    "dataset = results.fetchall()\n",
    "\n",
    "# Retrieve column names using list comprehension in a 'for' loop \n",
    "for column_id in cursor.stored_results():\n",
    "    columns = [ column[0] for column in column_id.description ]\n",
    "\n",
    "# Print column names\n",
    "print(columns)\n",
    "\n",
    "# Print data \n",
    "for data in dataset:\n",
    "    print(data)"
   ]
  },
  {
   "cell_type": "code",
   "execution_count": 80,
   "metadata": {},
   "outputs": [],
   "source": [
    "sql = \"DROP PROCEDURE IF EXISTS CandelBooking;\"\n",
    "\n",
    "cursor.execute(sql)"
   ]
  },
  {
   "cell_type": "code",
   "execution_count": 65,
   "metadata": {},
   "outputs": [],
   "source": [
    "stored_procedure_query = \"\"\"\n",
    "CREATE PROCEDURE AddBooking(IN booking_id INT, IN customer_id INT, IN booking_date DATE, IN table_num INT)\n",
    "BEGIN\n",
    "    DECLARE booking_message VARCHAR(255);\n",
    "\n",
    "    -- Perform the booking insertion\n",
    "    INSERT INTO Bookings(BookingID, BookingDate, TableNumber, CustomerID)\n",
    "    VALUES (booking_id, booking_date, table_num, customer_id);\n",
    "\n",
    "    -- Check if the booking was successful\n",
    "    IF ROW_COUNT() > 0 THEN\n",
    "        SET booking_message = 'New booking added';\n",
    "    ELSE\n",
    "        SET booking_message = CONCAT('Failed to add booking ', booking_id, '.');\n",
    "    END IF;\n",
    "\n",
    "    -- Return the booking message\n",
    "    SELECT booking_message AS 'Booking status';\n",
    "END\n",
    "\"\"\"\n",
    "cursor.execute(stored_procedure_query)"
   ]
  },
  {
   "cell_type": "code",
   "execution_count": 69,
   "metadata": {},
   "outputs": [
    {
     "name": "stdout",
     "output_type": "stream",
     "text": [
      "['Booking status']\n",
      "('New booking added',)\n"
     ]
    }
   ],
   "source": [
    "# Call the stored procedure with its name\n",
    "cursor.callproc(\"AddBooking\",(40,2,'2022-11-12',3))\n",
    "\n",
    "# Retrieve recrods in \"dataset\"\n",
    "results = next( cursor.stored_results() )\n",
    "dataset = results.fetchall()\n",
    "\n",
    "# Retrieve column names using list comprehension in a 'for' loop \n",
    "for column_id in cursor.stored_results():\n",
    "    columns = [ column[0] for column in column_id.description ]\n",
    "\n",
    "# Print column names\n",
    "print(columns)\n",
    "\n",
    "# Print data \n",
    "for data in dataset:\n",
    "    print(data)"
   ]
  },
  {
   "cell_type": "code",
   "execution_count": 73,
   "metadata": {},
   "outputs": [],
   "source": [
    "stored_procedure_query = \"\"\"\n",
    "CREATE PROCEDURE UpdateBooking(IN booking_id INT,IN booking_date DATE)\n",
    "BEGIN\n",
    "    DECLARE booking_exists INT;\n",
    "    SELECT COUNT(*) INTO booking_exists FROM Bookings WHERE BookingID = booking_id;\n",
    "    IF booking_exists > 0 THEN\n",
    "        -- Update the booking date\n",
    "        UPDATE Bookings\n",
    "        SET BookingDate = booking_date\n",
    "        WHERE BookingID = booking_id;\n",
    "\n",
    "        SELECT CONCAT('Booking ', booking_id, ' updated .') AS 'Update status';\n",
    "    ELSE\n",
    "        SELECT CONCAT('Booking ', booking_id, ' does not exist. No update performed.') AS 'Update status';\n",
    "    END IF;\n",
    "END\n",
    "\"\"\"\n",
    "cursor.execute(stored_procedure_query)"
   ]
  },
  {
   "cell_type": "code",
   "execution_count": 75,
   "metadata": {},
   "outputs": [
    {
     "name": "stdout",
     "output_type": "stream",
     "text": [
      "['Update status']\n",
      "('Booking 4100 does not exist. No update performed.',)\n"
     ]
    }
   ],
   "source": [
    "# Call the stored procedure with its name\n",
    "cursor.callproc(\"UpdateBooking\",(4100,'2022-11-30'))\n",
    "\n",
    "# Retrieve recrods in \"dataset\"\n",
    "results = next( cursor.stored_results() )\n",
    "dataset = results.fetchall()\n",
    "\n",
    "# Retrieve column names using list comprehension in a 'for' loop \n",
    "for column_id in cursor.stored_results():\n",
    "    columns = [ column[0] for column in column_id.description ]\n",
    "\n",
    "# Print column names\n",
    "print(columns)\n",
    "\n",
    "# Print data \n",
    "for data in dataset:\n",
    "    print(data)"
   ]
  },
  {
   "cell_type": "code",
   "execution_count": 81,
   "metadata": {},
   "outputs": [],
   "source": [
    "stored_procedure_query = \"\"\"\n",
    "CREATE PROCEDURE CandelBooking(IN booking_id INT)\n",
    "BEGIN\n",
    "    DECLARE booking_exists INT;\n",
    "    SELECT COUNT(*) INTO booking_exists FROM Bookings WHERE BookingID = booking_id;\n",
    "    IF booking_exists > 0 THEN\n",
    "        -- Update the booking date\n",
    "        DELETE FROM Bookings\n",
    "        WHERE BookingID = booking_id;\n",
    "\n",
    "        SELECT CONCAT('Booking ', booking_id, ' cancelled .') AS 'Cancellation status';\n",
    "    ELSE\n",
    "        SELECT CONCAT('Booking ', booking_id, ' does not exist. No cancellation performed.') AS 'Cancellation status';\n",
    "    END IF;\n",
    "END\n",
    "\"\"\"\n",
    "cursor.execute(stored_procedure_query)"
   ]
  },
  {
   "cell_type": "code",
   "execution_count": 83,
   "metadata": {},
   "outputs": [
    {
     "name": "stdout",
     "output_type": "stream",
     "text": [
      "['Cancellation status']\n",
      "('Booking 1 cancelled .',)\n"
     ]
    }
   ],
   "source": [
    "# Call the stored procedure with its name\n",
    "cursor.callproc(\"CandelBooking\",(1,))\n",
    "\n",
    "# Retrieve recrods in \"dataset\"\n",
    "results = next( cursor.stored_results() )\n",
    "dataset = results.fetchall()\n",
    "\n",
    "# Retrieve column names using list comprehension in a 'for' loop \n",
    "for column_id in cursor.stored_results():\n",
    "    columns = [ column[0] for column in column_id.description ]\n",
    "\n",
    "# Print column names\n",
    "print(columns)\n",
    "\n",
    "# Print data \n",
    "for data in dataset:\n",
    "    print(data)"
   ]
  }
 ],
 "metadata": {
  "kernelspec": {
   "display_name": "Python 3",
   "language": "python",
   "name": "python3"
  },
  "language_info": {
   "codemirror_mode": {
    "name": "ipython",
    "version": 3
   },
   "file_extension": ".py",
   "mimetype": "text/x-python",
   "name": "python",
   "nbconvert_exporter": "python",
   "pygments_lexer": "ipython3",
   "version": "3.10.11"
  }
 },
 "nbformat": 4,
 "nbformat_minor": 2
}
